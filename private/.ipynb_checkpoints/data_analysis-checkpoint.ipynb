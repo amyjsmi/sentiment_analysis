{
 "cells": [
  {
   "cell_type": "markdown",
   "metadata": {},
   "source": [
    "## Language Processing for Twitter, FB, Insta"
   ]
  },
  {
   "cell_type": "markdown",
   "metadata": {},
   "source": [
    "This is using TextBlob (NLTK), Pandas, and data extracted using the social media scrapers I created.\n",
    "\n",
    "In order to download TextBlob you must download the conda version in the AnacondaPrompt\n",
    "\n",
    "$ conda install -c conda-forge textblob"
   ]
  },
  {
   "cell_type": "code",
   "execution_count": 262,
   "metadata": {},
   "outputs": [],
   "source": [
    "# Importing necessary packages and variables for .csv files"
   ]
  },
  {
   "cell_type": "code",
   "execution_count": 403,
   "metadata": {},
   "outputs": [
    {
     "name": "stderr",
     "output_type": "stream",
     "text": [
      "[nltk_data] Downloading package punkt to\n",
      "[nltk_data]     C:\\Users\\AmySmith\\AppData\\Roaming\\nltk_data...\n",
      "[nltk_data]   Unzipping tokenizers\\punkt.zip.\n"
     ]
    }
   ],
   "source": [
    "import os\n",
    "import pandas as pd\n",
    "from textblob import TextBlob\n",
    "import matplotlib.pyplot as plt\n",
    "import nltk\n",
    "nltk.download('punkt')\n",
    "\n",
    "%matplotlib inline\n",
    "\n",
    "tweets = pd.read_csv(\"tweets.csv\",sep=\"|\")\n",
    "fb = pd.read_csv(\"fb_comments.csv\",sep=\"|\")\n",
    "insta = pd.read_csv(\"insta_comments.csv\")"
   ]
  },
  {
   "cell_type": "markdown",
   "metadata": {},
   "source": [
    "**Ran into an issue with this specific line, since the user is verified they have an additional column.  Will need to handle this for future scrapes.**\n",
    "jayelectronica|Verified|Man don’t make me go beak the law this early in the morning!|2w5 likesReply|View replies (2)"
   ]
  },
  {
   "cell_type": "markdown",
   "metadata": {},
   "source": [
    "## Preview of data from .csv files"
   ]
  },
  {
   "cell_type": "code",
   "execution_count": 382,
   "metadata": {},
   "outputs": [
    {
     "data": {
      "text/html": [
       "<div>\n",
       "<style scoped>\n",
       "    .dataframe tbody tr th:only-of-type {\n",
       "        vertical-align: middle;\n",
       "    }\n",
       "\n",
       "    .dataframe tbody tr th {\n",
       "        vertical-align: top;\n",
       "    }\n",
       "\n",
       "    .dataframe thead th {\n",
       "        text-align: right;\n",
       "    }\n",
       "</style>\n",
       "<table border=\"1\" class=\"dataframe\">\n",
       "  <thead>\n",
       "    <tr style=\"text-align: right;\">\n",
       "      <th></th>\n",
       "      <th>fb_name</th>\n",
       "      <th>fb_text</th>\n",
       "      <th>fb_time</th>\n",
       "    </tr>\n",
       "  </thead>\n",
       "  <tbody>\n",
       "    <tr>\n",
       "      <th>0</th>\n",
       "      <td>Daniel Jozwiak</td>\n",
       "      <td>Maybe 5. Others I think ur just ducking down. ...</td>\n",
       "      <td>2021-03-26 22:08:26.970120</td>\n",
       "    </tr>\n",
       "    <tr>\n",
       "      <th>1</th>\n",
       "      <td>Dustin Montalvo</td>\n",
       "      <td>7. So how many miles is that bike gonna have w...</td>\n",
       "      <td>2021-03-26 22:08:26.979097</td>\n",
       "    </tr>\n",
       "    <tr>\n",
       "      <th>2</th>\n",
       "      <td>Aaron Printup</td>\n",
       "      <td>6 I think</td>\n",
       "      <td>2021-03-26 22:08:27.595743</td>\n",
       "    </tr>\n",
       "  </tbody>\n",
       "</table>\n",
       "</div>"
      ],
      "text/plain": [
       "           fb_name                                            fb_text  \\\n",
       "0   Daniel Jozwiak  Maybe 5. Others I think ur just ducking down. ...   \n",
       "1  Dustin Montalvo  7. So how many miles is that bike gonna have w...   \n",
       "2    Aaron Printup                                          6 I think   \n",
       "\n",
       "                      fb_time  \n",
       "0  2021-03-26 22:08:26.970120  \n",
       "1  2021-03-26 22:08:26.979097  \n",
       "2  2021-03-26 22:08:27.595743  "
      ]
     },
     "execution_count": 382,
     "metadata": {},
     "output_type": "execute_result"
    }
   ],
   "source": [
    "fb.head(3)"
   ]
  },
  {
   "cell_type": "code",
   "execution_count": 383,
   "metadata": {},
   "outputs": [
    {
     "data": {
      "text/html": [
       "<div>\n",
       "<style scoped>\n",
       "    .dataframe tbody tr th:only-of-type {\n",
       "        vertical-align: middle;\n",
       "    }\n",
       "\n",
       "    .dataframe tbody tr th {\n",
       "        vertical-align: top;\n",
       "    }\n",
       "\n",
       "    .dataframe thead th {\n",
       "        text-align: right;\n",
       "    }\n",
       "</style>\n",
       "<table border=\"1\" class=\"dataframe\">\n",
       "  <thead>\n",
       "    <tr style=\"text-align: right;\">\n",
       "      <th></th>\n",
       "      <th>insta_name</th>\n",
       "      <th>insta_text</th>\n",
       "      <th>insta_time</th>\n",
       "      <th>no_reply</th>\n",
       "    </tr>\n",
       "  </thead>\n",
       "  <tbody>\n",
       "    <tr>\n",
       "      <th>0</th>\n",
       "      <td>bart_thorburn</td>\n",
       "      <td>Both?</td>\n",
       "      <td>23h3 likesReply</td>\n",
       "      <td>View replies (1)</td>\n",
       "    </tr>\n",
       "    <tr>\n",
       "      <th>1</th>\n",
       "      <td>tat2jawsh_dragon_briars</td>\n",
       "      <td>I got $1 Yay! Now just give me my H2</td>\n",
       "      <td>14h1 likeReply</td>\n",
       "      <td>View replies (2)</td>\n",
       "    </tr>\n",
       "    <tr>\n",
       "      <th>2</th>\n",
       "      <td>will.dolan3</td>\n",
       "      <td>H2 got a mf supercharger how can you not go wi...</td>\n",
       "      <td>5h1 likeReply</td>\n",
       "      <td>View replies (1)</td>\n",
       "    </tr>\n",
       "  </tbody>\n",
       "</table>\n",
       "</div>"
      ],
      "text/plain": [
       "                insta_name                                         insta_text  \\\n",
       "0            bart_thorburn                                              Both?   \n",
       "1  tat2jawsh_dragon_briars               I got $1 Yay! Now just give me my H2   \n",
       "2              will.dolan3  H2 got a mf supercharger how can you not go wi...   \n",
       "\n",
       "        insta_time          no_reply  \n",
       "0  23h3 likesReply  View replies (1)  \n",
       "1   14h1 likeReply  View replies (2)  \n",
       "2    5h1 likeReply  View replies (1)  "
      ]
     },
     "execution_count": 383,
     "metadata": {},
     "output_type": "execute_result"
    }
   ],
   "source": [
    "insta.head(3)"
   ]
  },
  {
   "cell_type": "code",
   "execution_count": 385,
   "metadata": {},
   "outputs": [
    {
     "data": {
      "text/html": [
       "<div>\n",
       "<style scoped>\n",
       "    .dataframe tbody tr th:only-of-type {\n",
       "        vertical-align: middle;\n",
       "    }\n",
       "\n",
       "    .dataframe tbody tr th {\n",
       "        vertical-align: top;\n",
       "    }\n",
       "\n",
       "    .dataframe thead th {\n",
       "        text-align: right;\n",
       "    }\n",
       "</style>\n",
       "<table border=\"1\" class=\"dataframe\">\n",
       "  <thead>\n",
       "    <tr style=\"text-align: right;\">\n",
       "      <th></th>\n",
       "      <th>tweet_name</th>\n",
       "      <th>tweet_text</th>\n",
       "      <th>tweet_time</th>\n",
       "    </tr>\n",
       "  </thead>\n",
       "  <tbody>\n",
       "    <tr>\n",
       "      <th>0</th>\n",
       "      <td>Luimoto</td>\n",
       "      <td>🔥We've recently been outfitting @RideClutch wi...</td>\n",
       "      <td>2021-05-20 16:33:13+00:00</td>\n",
       "    </tr>\n",
       "    <tr>\n",
       "      <th>1</th>\n",
       "      <td>cycle_law</td>\n",
       "      <td>The Kawasaki Ninja H2 is a flamethrower 🔥🔥 Wha...</td>\n",
       "      <td>2021-05-07 19:43:42+00:00</td>\n",
       "    </tr>\n",
       "    <tr>\n",
       "      <th>2</th>\n",
       "      <td>SteveYa08701736</td>\n",
       "      <td>@RonCapps28 @gearwrench @LVMotorSpeedway I nee...</td>\n",
       "      <td>2021-04-24 17:38:27+00:00</td>\n",
       "    </tr>\n",
       "  </tbody>\n",
       "</table>\n",
       "</div>"
      ],
      "text/plain": [
       "        tweet_name                                         tweet_text  \\\n",
       "0          Luimoto  🔥We've recently been outfitting @RideClutch wi...   \n",
       "1        cycle_law  The Kawasaki Ninja H2 is a flamethrower 🔥🔥 Wha...   \n",
       "2  SteveYa08701736  @RonCapps28 @gearwrench @LVMotorSpeedway I nee...   \n",
       "\n",
       "                  tweet_time  \n",
       "0  2021-05-20 16:33:13+00:00  \n",
       "1  2021-05-07 19:43:42+00:00  \n",
       "2  2021-04-24 17:38:27+00:00  "
      ]
     },
     "execution_count": 385,
     "metadata": {},
     "output_type": "execute_result"
    }
   ],
   "source": [
    "tweets.head(3)"
   ]
  },
  {
   "cell_type": "markdown",
   "metadata": {},
   "source": [
    "## Utilizing TextBlob for polarity/subjectivity\n",
    "\n",
    "**Polarity** ranges from -1 (most negative) to 1 (most positive)\n",
    "\n",
    "**Subjectivity** ranges from -1 (very objective) to 1 (very subjective)\n"
   ]
  },
  {
   "cell_type": "markdown",
   "metadata": {},
   "source": [
    "_objective is more factual and subjective is more emotion based_\n",
    "\n",
    "**Need to make edits so TextBlob is more accurate in reading text, I can see that it is not picking up data from some rows**"
   ]
  },
  {
   "cell_type": "markdown",
   "metadata": {},
   "source": [
    "### Facebook"
   ]
  },
  {
   "cell_type": "code",
   "execution_count": 394,
   "metadata": {},
   "outputs": [],
   "source": [
    "fb_blob = [TextBlob(fb_line) for fb_line in fb['fb_text']]\n",
    "\n",
    "fb['fb_polar'] = [b.sentiment.polarity for b in fb_blob]\n",
    "fb['fb_subj'] = [b.sentiment.subjectivity for b in fb_blob]"
   ]
  },
  {
   "cell_type": "code",
   "execution_count": 268,
   "metadata": {},
   "outputs": [
    {
     "data": {
      "text/html": [
       "<div>\n",
       "<style scoped>\n",
       "    .dataframe tbody tr th:only-of-type {\n",
       "        vertical-align: middle;\n",
       "    }\n",
       "\n",
       "    .dataframe tbody tr th {\n",
       "        vertical-align: top;\n",
       "    }\n",
       "\n",
       "    .dataframe thead th {\n",
       "        text-align: right;\n",
       "    }\n",
       "</style>\n",
       "<table border=\"1\" class=\"dataframe\">\n",
       "  <thead>\n",
       "    <tr style=\"text-align: right;\">\n",
       "      <th></th>\n",
       "      <th>fb_name</th>\n",
       "      <th>fb_text</th>\n",
       "      <th>fb_time</th>\n",
       "      <th>fb_polar</th>\n",
       "      <th>fb_subj</th>\n",
       "    </tr>\n",
       "  </thead>\n",
       "  <tbody>\n",
       "    <tr>\n",
       "      <th>0</th>\n",
       "      <td>Daniel Jozwiak</td>\n",
       "      <td>Maybe 5. Others I think ur just ducking down. ...</td>\n",
       "      <td>2021-03-26 22:08:26.970120</td>\n",
       "      <td>0.422222</td>\n",
       "      <td>0.644444</td>\n",
       "    </tr>\n",
       "    <tr>\n",
       "      <th>1</th>\n",
       "      <td>Dustin Montalvo</td>\n",
       "      <td>7. So how many miles is that bike gonna have w...</td>\n",
       "      <td>2021-03-26 22:08:26.979097</td>\n",
       "      <td>0.650000</td>\n",
       "      <td>0.600000</td>\n",
       "    </tr>\n",
       "    <tr>\n",
       "      <th>2</th>\n",
       "      <td>Aaron Printup</td>\n",
       "      <td>6 I think</td>\n",
       "      <td>2021-03-26 22:08:27.595743</td>\n",
       "      <td>0.000000</td>\n",
       "      <td>0.000000</td>\n",
       "    </tr>\n",
       "  </tbody>\n",
       "</table>\n",
       "</div>"
      ],
      "text/plain": [
       "           fb_name                                            fb_text  \\\n",
       "0   Daniel Jozwiak  Maybe 5. Others I think ur just ducking down. ...   \n",
       "1  Dustin Montalvo  7. So how many miles is that bike gonna have w...   \n",
       "2    Aaron Printup                                          6 I think   \n",
       "\n",
       "                      fb_time  fb_polar   fb_subj  \n",
       "0  2021-03-26 22:08:26.970120  0.422222  0.644444  \n",
       "1  2021-03-26 22:08:26.979097  0.650000  0.600000  \n",
       "2  2021-03-26 22:08:27.595743  0.000000  0.000000  "
      ]
     },
     "execution_count": 268,
     "metadata": {},
     "output_type": "execute_result"
    }
   ],
   "source": [
    "fb.head(3)"
   ]
  },
  {
   "cell_type": "markdown",
   "metadata": {},
   "source": [
    "**Since we are showing 0.000000 values, I created a mask to remove them and variable for clean dataframe**"
   ]
  },
  {
   "cell_type": "code",
   "execution_count": 269,
   "metadata": {},
   "outputs": [],
   "source": [
    "fb_zero_p = fb['fb_polar'] != 0.000000\n",
    "fb_zero_s = fb['fb_subj'] != 0.000000\n",
    "\n",
    "fb_df = fb[fb_zero_p & fb_zero_s]"
   ]
  },
  {
   "cell_type": "code",
   "execution_count": 270,
   "metadata": {},
   "outputs": [
    {
     "data": {
      "text/html": [
       "<div>\n",
       "<style scoped>\n",
       "    .dataframe tbody tr th:only-of-type {\n",
       "        vertical-align: middle;\n",
       "    }\n",
       "\n",
       "    .dataframe tbody tr th {\n",
       "        vertical-align: top;\n",
       "    }\n",
       "\n",
       "    .dataframe thead th {\n",
       "        text-align: right;\n",
       "    }\n",
       "</style>\n",
       "<table border=\"1\" class=\"dataframe\">\n",
       "  <thead>\n",
       "    <tr style=\"text-align: right;\">\n",
       "      <th></th>\n",
       "      <th>fb_name</th>\n",
       "      <th>fb_text</th>\n",
       "      <th>fb_time</th>\n",
       "      <th>fb_polar</th>\n",
       "      <th>fb_subj</th>\n",
       "    </tr>\n",
       "  </thead>\n",
       "  <tbody>\n",
       "    <tr>\n",
       "      <th>0</th>\n",
       "      <td>Daniel Jozwiak</td>\n",
       "      <td>Maybe 5. Others I think ur just ducking down. ...</td>\n",
       "      <td>2021-03-26 22:08:26.970120</td>\n",
       "      <td>0.422222</td>\n",
       "      <td>0.644444</td>\n",
       "    </tr>\n",
       "    <tr>\n",
       "      <th>1</th>\n",
       "      <td>Dustin Montalvo</td>\n",
       "      <td>7. So how many miles is that bike gonna have w...</td>\n",
       "      <td>2021-03-26 22:08:26.979097</td>\n",
       "      <td>0.650000</td>\n",
       "      <td>0.600000</td>\n",
       "    </tr>\n",
       "    <tr>\n",
       "      <th>4</th>\n",
       "      <td>Mike Allen</td>\n",
       "      <td>You popped 8 maybe 9 if you count your tire co...</td>\n",
       "      <td>2021-03-26 22:08:27.608708</td>\n",
       "      <td>0.937500</td>\n",
       "      <td>1.000000</td>\n",
       "    </tr>\n",
       "    <tr>\n",
       "      <th>7</th>\n",
       "      <td>Logan Chester Tenney</td>\n",
       "      <td>My fav number 8!!!! It’s meant to be!!!! My dr...</td>\n",
       "      <td>2021-03-26 22:08:28.039327</td>\n",
       "      <td>1.000000</td>\n",
       "      <td>0.600000</td>\n",
       "    </tr>\n",
       "    <tr>\n",
       "      <th>9</th>\n",
       "      <td>Michael Morris</td>\n",
       "      <td>5 for the s1k and 1 and a half for the h2. 🤣😂</td>\n",
       "      <td>2021-03-26 22:08:28.049301</td>\n",
       "      <td>-0.166667</td>\n",
       "      <td>0.166667</td>\n",
       "    </tr>\n",
       "  </tbody>\n",
       "</table>\n",
       "</div>"
      ],
      "text/plain": [
       "                fb_name                                            fb_text  \\\n",
       "0        Daniel Jozwiak  Maybe 5. Others I think ur just ducking down. ...   \n",
       "1       Dustin Montalvo  7. So how many miles is that bike gonna have w...   \n",
       "4            Mike Allen  You popped 8 maybe 9 if you count your tire co...   \n",
       "7  Logan Chester Tenney  My fav number 8!!!! It’s meant to be!!!! My dr...   \n",
       "9        Michael Morris      5 for the s1k and 1 and a half for the h2. 🤣😂   \n",
       "\n",
       "                      fb_time  fb_polar   fb_subj  \n",
       "0  2021-03-26 22:08:26.970120  0.422222  0.644444  \n",
       "1  2021-03-26 22:08:26.979097  0.650000  0.600000  \n",
       "4  2021-03-26 22:08:27.608708  0.937500  1.000000  \n",
       "7  2021-03-26 22:08:28.039327  1.000000  0.600000  \n",
       "9  2021-03-26 22:08:28.049301 -0.166667  0.166667  "
      ]
     },
     "execution_count": 270,
     "metadata": {},
     "output_type": "execute_result"
    }
   ],
   "source": [
    "fb_df.head()"
   ]
  },
  {
   "cell_type": "markdown",
   "metadata": {},
   "source": [
    "### Instagram"
   ]
  },
  {
   "cell_type": "code",
   "execution_count": 271,
   "metadata": {},
   "outputs": [],
   "source": [
    "insta_blob = [TextBlob(insta_line) for insta_line in insta['insta_text']]\n",
    "\n",
    "insta['insta_polar'] = [b.sentiment.polarity for b in insta_blob]\n",
    "insta['insta_subj'] = [b.sentiment.subjectivity for b in insta_blob]"
   ]
  },
  {
   "cell_type": "code",
   "execution_count": 272,
   "metadata": {},
   "outputs": [
    {
     "data": {
      "text/html": [
       "<div>\n",
       "<style scoped>\n",
       "    .dataframe tbody tr th:only-of-type {\n",
       "        vertical-align: middle;\n",
       "    }\n",
       "\n",
       "    .dataframe tbody tr th {\n",
       "        vertical-align: top;\n",
       "    }\n",
       "\n",
       "    .dataframe thead th {\n",
       "        text-align: right;\n",
       "    }\n",
       "</style>\n",
       "<table border=\"1\" class=\"dataframe\">\n",
       "  <thead>\n",
       "    <tr style=\"text-align: right;\">\n",
       "      <th></th>\n",
       "      <th>insta_name</th>\n",
       "      <th>insta_text</th>\n",
       "      <th>insta_time</th>\n",
       "      <th>no_reply</th>\n",
       "      <th>insta_polar</th>\n",
       "      <th>insta_subj</th>\n",
       "    </tr>\n",
       "  </thead>\n",
       "  <tbody>\n",
       "    <tr>\n",
       "      <th>0</th>\n",
       "      <td>bart_thorburn</td>\n",
       "      <td>Both?</td>\n",
       "      <td>23h3 likesReply</td>\n",
       "      <td>View replies (1)</td>\n",
       "      <td>0.0</td>\n",
       "      <td>0.0</td>\n",
       "    </tr>\n",
       "    <tr>\n",
       "      <th>1</th>\n",
       "      <td>tat2jawsh_dragon_briars</td>\n",
       "      <td>I got $1 Yay! Now just give me my H2</td>\n",
       "      <td>14h1 likeReply</td>\n",
       "      <td>View replies (2)</td>\n",
       "      <td>0.0</td>\n",
       "      <td>0.0</td>\n",
       "    </tr>\n",
       "    <tr>\n",
       "      <th>2</th>\n",
       "      <td>will.dolan3</td>\n",
       "      <td>H2 got a mf supercharger how can you not go wi...</td>\n",
       "      <td>5h1 likeReply</td>\n",
       "      <td>View replies (1)</td>\n",
       "      <td>0.0</td>\n",
       "      <td>0.0</td>\n",
       "    </tr>\n",
       "  </tbody>\n",
       "</table>\n",
       "</div>"
      ],
      "text/plain": [
       "                insta_name                                         insta_text  \\\n",
       "0            bart_thorburn                                              Both?   \n",
       "1  tat2jawsh_dragon_briars               I got $1 Yay! Now just give me my H2   \n",
       "2              will.dolan3  H2 got a mf supercharger how can you not go wi...   \n",
       "\n",
       "        insta_time          no_reply  insta_polar  insta_subj  \n",
       "0  23h3 likesReply  View replies (1)          0.0         0.0  \n",
       "1   14h1 likeReply  View replies (2)          0.0         0.0  \n",
       "2    5h1 likeReply  View replies (1)          0.0         0.0  "
      ]
     },
     "execution_count": 272,
     "metadata": {},
     "output_type": "execute_result"
    }
   ],
   "source": [
    "insta.head(3)"
   ]
  },
  {
   "cell_type": "markdown",
   "metadata": {},
   "source": [
    "**Since we are showing 0.000000 values, I created a mask to remove them and variable for clean dataframe**"
   ]
  },
  {
   "cell_type": "code",
   "execution_count": 273,
   "metadata": {},
   "outputs": [],
   "source": [
    "insta_zero_p = insta['insta_polar'] != 0.000000\n",
    "insta_zero_s = insta['insta_subj'] != 0.000000\n",
    "\n",
    "insta_df = insta[insta_zero_p & insta_zero_s]"
   ]
  },
  {
   "cell_type": "code",
   "execution_count": 274,
   "metadata": {},
   "outputs": [
    {
     "data": {
      "text/html": [
       "<div>\n",
       "<style scoped>\n",
       "    .dataframe tbody tr th:only-of-type {\n",
       "        vertical-align: middle;\n",
       "    }\n",
       "\n",
       "    .dataframe tbody tr th {\n",
       "        vertical-align: top;\n",
       "    }\n",
       "\n",
       "    .dataframe thead th {\n",
       "        text-align: right;\n",
       "    }\n",
       "</style>\n",
       "<table border=\"1\" class=\"dataframe\">\n",
       "  <thead>\n",
       "    <tr style=\"text-align: right;\">\n",
       "      <th></th>\n",
       "      <th>insta_name</th>\n",
       "      <th>insta_text</th>\n",
       "      <th>insta_time</th>\n",
       "      <th>no_reply</th>\n",
       "      <th>insta_polar</th>\n",
       "      <th>insta_subj</th>\n",
       "    </tr>\n",
       "  </thead>\n",
       "  <tbody>\n",
       "    <tr>\n",
       "      <th>4</th>\n",
       "      <td>_jacobstansberry9161</td>\n",
       "      <td>I need that right one in my life😍 cannot beat ...</td>\n",
       "      <td>18h2 likesReply</td>\n",
       "      <td>View replies (1)</td>\n",
       "      <td>0.533482</td>\n",
       "      <td>0.467857</td>\n",
       "    </tr>\n",
       "    <tr>\n",
       "      <th>5</th>\n",
       "      <td>street_king_one_0_one</td>\n",
       "      <td>RIGHT ALL DAY 💯</td>\n",
       "      <td>18h1 likeReply</td>\n",
       "      <td>View replies (1)</td>\n",
       "      <td>0.285714</td>\n",
       "      <td>0.535714</td>\n",
       "    </tr>\n",
       "    <tr>\n",
       "      <th>6</th>\n",
       "      <td>emilyrose0917_</td>\n",
       "      <td>RIGHTTTTT 😍😍😍😍 I entered last week and hope I ...</td>\n",
       "      <td>23h1 likeReply</td>\n",
       "      <td>View replies (2)</td>\n",
       "      <td>0.500000</td>\n",
       "      <td>0.233333</td>\n",
       "    </tr>\n",
       "    <tr>\n",
       "      <th>8</th>\n",
       "      <td>therogueronin</td>\n",
       "      <td>That would be like choosing between super stre...</td>\n",
       "      <td>15h1 likeReply</td>\n",
       "      <td>View replies (1)</td>\n",
       "      <td>0.333333</td>\n",
       "      <td>0.666667</td>\n",
       "    </tr>\n",
       "    <tr>\n",
       "      <th>17</th>\n",
       "      <td>kevinalbin</td>\n",
       "      <td>Right</td>\n",
       "      <td>19h1 likeReply</td>\n",
       "      <td>NaN</td>\n",
       "      <td>0.285714</td>\n",
       "      <td>0.535714</td>\n",
       "    </tr>\n",
       "  </tbody>\n",
       "</table>\n",
       "</div>"
      ],
      "text/plain": [
       "               insta_name                                         insta_text  \\\n",
       "4    _jacobstansberry9161  I need that right one in my life😍 cannot beat ...   \n",
       "5   street_king_one_0_one                                    RIGHT ALL DAY 💯   \n",
       "6          emilyrose0917_  RIGHTTTTT 😍😍😍😍 I entered last week and hope I ...   \n",
       "8           therogueronin  That would be like choosing between super stre...   \n",
       "17             kevinalbin                                              Right   \n",
       "\n",
       "         insta_time          no_reply  insta_polar  insta_subj  \n",
       "4   18h2 likesReply  View replies (1)     0.533482    0.467857  \n",
       "5    18h1 likeReply  View replies (1)     0.285714    0.535714  \n",
       "6    23h1 likeReply  View replies (2)     0.500000    0.233333  \n",
       "8    15h1 likeReply  View replies (1)     0.333333    0.666667  \n",
       "17   19h1 likeReply               NaN     0.285714    0.535714  "
      ]
     },
     "execution_count": 274,
     "metadata": {},
     "output_type": "execute_result"
    }
   ],
   "source": [
    "insta_df.head()"
   ]
  },
  {
   "cell_type": "markdown",
   "metadata": {},
   "source": [
    "### Twitter"
   ]
  },
  {
   "cell_type": "code",
   "execution_count": 275,
   "metadata": {},
   "outputs": [],
   "source": [
    "twitter_blob = [TextBlob(twitter_line) for twitter_line in tweets['tweet_text']]\n",
    "\n",
    "tweets['tweet_polar'] = [b.sentiment.polarity for b in twitter_blob]\n",
    "tweets['tweet_subj'] = [b.sentiment.subjectivity for b in twitter_blob]"
   ]
  },
  {
   "cell_type": "code",
   "execution_count": 276,
   "metadata": {},
   "outputs": [
    {
     "data": {
      "text/html": [
       "<div>\n",
       "<style scoped>\n",
       "    .dataframe tbody tr th:only-of-type {\n",
       "        vertical-align: middle;\n",
       "    }\n",
       "\n",
       "    .dataframe tbody tr th {\n",
       "        vertical-align: top;\n",
       "    }\n",
       "\n",
       "    .dataframe thead th {\n",
       "        text-align: right;\n",
       "    }\n",
       "</style>\n",
       "<table border=\"1\" class=\"dataframe\">\n",
       "  <thead>\n",
       "    <tr style=\"text-align: right;\">\n",
       "      <th></th>\n",
       "      <th>tweet_name</th>\n",
       "      <th>tweet_text</th>\n",
       "      <th>tweet_time</th>\n",
       "      <th>tweet_polar</th>\n",
       "      <th>tweet_subj</th>\n",
       "    </tr>\n",
       "  </thead>\n",
       "  <tbody>\n",
       "    <tr>\n",
       "      <th>0</th>\n",
       "      <td>Luimoto</td>\n",
       "      <td>🔥We've recently been outfitting @RideClutch wi...</td>\n",
       "      <td>2021-05-20 16:33:13+00:00</td>\n",
       "      <td>0.25</td>\n",
       "      <td>0.575</td>\n",
       "    </tr>\n",
       "    <tr>\n",
       "      <th>1</th>\n",
       "      <td>cycle_law</td>\n",
       "      <td>The Kawasaki Ninja H2 is a flamethrower 🔥🔥 Wha...</td>\n",
       "      <td>2021-05-07 19:43:42+00:00</td>\n",
       "      <td>0.00</td>\n",
       "      <td>0.000</td>\n",
       "    </tr>\n",
       "    <tr>\n",
       "      <th>2</th>\n",
       "      <td>SteveYa08701736</td>\n",
       "      <td>@RonCapps28 @gearwrench @LVMotorSpeedway I nee...</td>\n",
       "      <td>2021-04-24 17:38:27+00:00</td>\n",
       "      <td>-0.50</td>\n",
       "      <td>1.000</td>\n",
       "    </tr>\n",
       "  </tbody>\n",
       "</table>\n",
       "</div>"
      ],
      "text/plain": [
       "        tweet_name                                         tweet_text  \\\n",
       "0          Luimoto  🔥We've recently been outfitting @RideClutch wi...   \n",
       "1        cycle_law  The Kawasaki Ninja H2 is a flamethrower 🔥🔥 Wha...   \n",
       "2  SteveYa08701736  @RonCapps28 @gearwrench @LVMotorSpeedway I nee...   \n",
       "\n",
       "                  tweet_time  tweet_polar  tweet_subj  \n",
       "0  2021-05-20 16:33:13+00:00         0.25       0.575  \n",
       "1  2021-05-07 19:43:42+00:00         0.00       0.000  \n",
       "2  2021-04-24 17:38:27+00:00        -0.50       1.000  "
      ]
     },
     "execution_count": 276,
     "metadata": {},
     "output_type": "execute_result"
    }
   ],
   "source": [
    "tweets.head(3)"
   ]
  },
  {
   "cell_type": "markdown",
   "metadata": {},
   "source": [
    "**Since we are showing 0.000000 values, I created a mask to remove them and variable for clean dataframe**"
   ]
  },
  {
   "cell_type": "code",
   "execution_count": 277,
   "metadata": {},
   "outputs": [],
   "source": [
    "tweet_zero_p = tweets['tweet_polar'] != 0.000000\n",
    "tweet_zero_s = tweets['tweet_subj'] != 0.000000\n",
    "\n",
    "tweet_df = tweets[tweet_zero_p & tweet_zero_s]"
   ]
  },
  {
   "cell_type": "code",
   "execution_count": 278,
   "metadata": {},
   "outputs": [
    {
     "data": {
      "text/html": [
       "<div>\n",
       "<style scoped>\n",
       "    .dataframe tbody tr th:only-of-type {\n",
       "        vertical-align: middle;\n",
       "    }\n",
       "\n",
       "    .dataframe tbody tr th {\n",
       "        vertical-align: top;\n",
       "    }\n",
       "\n",
       "    .dataframe thead th {\n",
       "        text-align: right;\n",
       "    }\n",
       "</style>\n",
       "<table border=\"1\" class=\"dataframe\">\n",
       "  <thead>\n",
       "    <tr style=\"text-align: right;\">\n",
       "      <th></th>\n",
       "      <th>tweet_name</th>\n",
       "      <th>tweet_text</th>\n",
       "      <th>tweet_time</th>\n",
       "      <th>tweet_polar</th>\n",
       "      <th>tweet_subj</th>\n",
       "    </tr>\n",
       "  </thead>\n",
       "  <tbody>\n",
       "    <tr>\n",
       "      <th>0</th>\n",
       "      <td>Luimoto</td>\n",
       "      <td>🔥We've recently been outfitting @RideClutch wi...</td>\n",
       "      <td>2021-05-20 16:33:13+00:00</td>\n",
       "      <td>0.250000</td>\n",
       "      <td>0.575000</td>\n",
       "    </tr>\n",
       "    <tr>\n",
       "      <th>2</th>\n",
       "      <td>SteveYa08701736</td>\n",
       "      <td>@RonCapps28 @gearwrench @LVMotorSpeedway I nee...</td>\n",
       "      <td>2021-04-24 17:38:27+00:00</td>\n",
       "      <td>-0.500000</td>\n",
       "      <td>1.000000</td>\n",
       "    </tr>\n",
       "    <tr>\n",
       "      <th>4</th>\n",
       "      <td>Luimoto</td>\n",
       "      <td>Keep an eye out for more Luimoto Seat Covers o...</td>\n",
       "      <td>2021-04-13 16:37:54+00:00</td>\n",
       "      <td>0.625000</td>\n",
       "      <td>0.500000</td>\n",
       "    </tr>\n",
       "    <tr>\n",
       "      <th>5</th>\n",
       "      <td>WraithPhotos</td>\n",
       "      <td>Lol thanks @rideclutch, it's perfect. @ Saint ...</td>\n",
       "      <td>2021-04-10 22:20:06+00:00</td>\n",
       "      <td>0.666667</td>\n",
       "      <td>0.633333</td>\n",
       "    </tr>\n",
       "    <tr>\n",
       "      <th>8</th>\n",
       "      <td>emir_orbita</td>\n",
       "      <td>Thank you @rideclutch for choosing me as one o...</td>\n",
       "      <td>2021-01-22 21:06:43+00:00</td>\n",
       "      <td>-0.781250</td>\n",
       "      <td>0.500000</td>\n",
       "    </tr>\n",
       "  </tbody>\n",
       "</table>\n",
       "</div>"
      ],
      "text/plain": [
       "        tweet_name                                         tweet_text  \\\n",
       "0          Luimoto  🔥We've recently been outfitting @RideClutch wi...   \n",
       "2  SteveYa08701736  @RonCapps28 @gearwrench @LVMotorSpeedway I nee...   \n",
       "4          Luimoto  Keep an eye out for more Luimoto Seat Covers o...   \n",
       "5     WraithPhotos  Lol thanks @rideclutch, it's perfect. @ Saint ...   \n",
       "8      emir_orbita  Thank you @rideclutch for choosing me as one o...   \n",
       "\n",
       "                  tweet_time  tweet_polar  tweet_subj  \n",
       "0  2021-05-20 16:33:13+00:00     0.250000    0.575000  \n",
       "2  2021-04-24 17:38:27+00:00    -0.500000    1.000000  \n",
       "4  2021-04-13 16:37:54+00:00     0.625000    0.500000  \n",
       "5  2021-04-10 22:20:06+00:00     0.666667    0.633333  \n",
       "8  2021-01-22 21:06:43+00:00    -0.781250    0.500000  "
      ]
     },
     "execution_count": 278,
     "metadata": {},
     "output_type": "execute_result"
    }
   ],
   "source": [
    "tweet_df.head()"
   ]
  },
  {
   "cell_type": "markdown",
   "metadata": {},
   "source": [
    "## Polarity/subjectivity sums, len, averages"
   ]
  },
  {
   "cell_type": "markdown",
   "metadata": {},
   "source": [
    "Creating variables with sum of the polarity and subjectivity of each dataframe"
   ]
  },
  {
   "cell_type": "code",
   "execution_count": 279,
   "metadata": {},
   "outputs": [],
   "source": [
    "fb_polar_sum = sum(fb_df['fb_polar'])\n",
    "insta_polar_sum = sum(insta_df['insta_polar'])\n",
    "tweet_polar_sum = sum(tweet_df['tweet_polar'])\n",
    "\n",
    "fb_subj_sum = sum(fb_df['fb_subj'])\n",
    "insta_subj_sum = sum(insta_df['insta_subj'])\n",
    "tweet_subj_sum = sum(tweet_df['tweet_subj'])"
   ]
  },
  {
   "cell_type": "markdown",
   "metadata": {},
   "source": [
    "Gathering the length of each dataframe to calculate averages & use for visualization"
   ]
  },
  {
   "cell_type": "code",
   "execution_count": 280,
   "metadata": {},
   "outputs": [],
   "source": [
    "fb_rows = len(fb_df)\n",
    "insta_rows = len(insta_df)\n",
    "tweet_rows = len(tweet_df)\n",
    "total_len = fb_rows + insta_rows + tweet_rows"
   ]
  },
  {
   "cell_type": "markdown",
   "metadata": {},
   "source": [
    "This is the raw total polarity and subjectivity of all data"
   ]
  },
  {
   "cell_type": "code",
   "execution_count": 281,
   "metadata": {},
   "outputs": [],
   "source": [
    "total_polar = fb_polar_sum + insta_polar_sum + tweet_polar_sum\n",
    "total_subj = fb_subj_sum + insta_subj_sum + tweet_subj_sum"
   ]
  },
  {
   "cell_type": "markdown",
   "metadata": {},
   "source": [
    "Average polarity & subjectivity of **all** data"
   ]
  },
  {
   "cell_type": "code",
   "execution_count": 282,
   "metadata": {
    "scrolled": true
   },
   "outputs": [
    {
     "name": "stdout",
     "output_type": "stream",
     "text": [
      "Average polarity for all data: 0.28\n",
      "Average subjectivity for all data: 0.54\n"
     ]
    }
   ],
   "source": [
    "avg_all_polar = round(total_polar/total_len,2)\n",
    "avg_all_subj = round(total_subj/total_len,2)\n",
    "\n",
    "print(f\"Average polarity for all data: {avg_all_polar}\")\n",
    "print(f\"Average subjectivity for all data: {avg_all_subj}\")"
   ]
  },
  {
   "cell_type": "markdown",
   "metadata": {},
   "source": [
    "### Facebook"
   ]
  },
  {
   "cell_type": "code",
   "execution_count": 283,
   "metadata": {},
   "outputs": [
    {
     "name": "stdout",
     "output_type": "stream",
     "text": [
      "Facebook Avg Polarity: 0.21\n",
      "Facebook Avg Subjectivity: 0.53\n"
     ]
    }
   ],
   "source": [
    "fb_avg_polar = round(fb_polar_sum/fb_rows,2)\n",
    "fb_avg_subj = round(fb_subj_sum/fb_rows,2)\n",
    "\n",
    "print(f\"Facebook Avg Polarity: {fb_avg_polar}\")\n",
    "print(f\"Facebook Avg Subjectivity: {fb_avg_subj}\")"
   ]
  },
  {
   "cell_type": "code",
   "execution_count": 284,
   "metadata": {},
   "outputs": [],
   "source": [
    "fb_p_values = fb_df['fb_polar'].value_counts()\n",
    "fb_s_values = fb_df['fb_subj'].value_counts()"
   ]
  },
  {
   "cell_type": "markdown",
   "metadata": {},
   "source": [
    "### Instagram"
   ]
  },
  {
   "cell_type": "code",
   "execution_count": 285,
   "metadata": {},
   "outputs": [
    {
     "name": "stdout",
     "output_type": "stream",
     "text": [
      "Instagram Avg Polarity: 0.31\n",
      "Instagram Avg Subjectivity: 0.55\n"
     ]
    }
   ],
   "source": [
    "insta_avg_polar = round(insta_polar_sum/insta_rows,2)\n",
    "insta_avg_subj = round(insta_subj_sum/insta_rows,2)\n",
    "\n",
    "print(f\"Instagram Avg Polarity: {insta_avg_polar}\")\n",
    "print(f\"Instagram Avg Subjectivity: {insta_avg_subj}\")"
   ]
  },
  {
   "cell_type": "code",
   "execution_count": 286,
   "metadata": {},
   "outputs": [],
   "source": [
    "insta_p_values = insta_df['insta_polar'].value_counts()\n",
    "insta_s_values = insta_df['insta_subj'].value_counts()"
   ]
  },
  {
   "cell_type": "markdown",
   "metadata": {},
   "source": [
    "### Twitter"
   ]
  },
  {
   "cell_type": "code",
   "execution_count": 287,
   "metadata": {},
   "outputs": [
    {
     "name": "stdout",
     "output_type": "stream",
     "text": [
      "Twitter Avg Polarity: 0.17\n",
      "Twitter Avg Subjectivity: 0.52\n"
     ]
    }
   ],
   "source": [
    "tweet_avg_polar = round(tweet_polar_sum/tweet_rows,2)\n",
    "tweet_avg_subj = round(tweet_subj_sum/tweet_rows,2)\n",
    "\n",
    "print(f\"Twitter Avg Polarity: {tweet_avg_polar}\")\n",
    "print(f\"Twitter Avg Subjectivity: {tweet_avg_subj}\")"
   ]
  },
  {
   "cell_type": "code",
   "execution_count": 358,
   "metadata": {},
   "outputs": [],
   "source": [
    "tweet_p_values = tweet_df['tweet_polar'].value_counts(sort=True)\n",
    "tweet_s_values = tweet_df['tweet_subj'].value_counts(sort=True)"
   ]
  },
  {
   "cell_type": "markdown",
   "metadata": {},
   "source": [
    "## Visualizing Polarity\n",
    "\n",
    "Visualizing the polarity (how positive/negative) the data is from each social media platform"
   ]
  },
  {
   "cell_type": "markdown",
   "metadata": {},
   "source": [
    "### FB Polarity"
   ]
  },
  {
   "cell_type": "code",
   "execution_count": 359,
   "metadata": {},
   "outputs": [
    {
     "data": {
      "image/png": "[encoded data removed]",
      "text/plain": [
       "<Figure size 432x288 with 1 Axes>"
      ]
     },
     "metadata": {
      "needs_background": "light"
     },
     "output_type": "display_data"
    }
   ],
   "source": [
    "plt.hist(x=fb_df['fb_polar'], bins=10, color='#4267B2', edgecolor='#000000')\n",
    "plt.xlabel('Polarity Score')\n",
    "plt.ylabel('Frequency')\n",
    "plt.title('Facebook Polarity')\n",
    "plt.show()"
   ]
  },
  {
   "cell_type": "code",
   "execution_count": 315,
   "metadata": {},
   "outputs": [
    {
     "data": {
      "text/html": [
       "<div>\n",
       "<style scoped>\n",
       "    .dataframe tbody tr th:only-of-type {\n",
       "        vertical-align: middle;\n",
       "    }\n",
       "\n",
       "    .dataframe tbody tr th {\n",
       "        vertical-align: top;\n",
       "    }\n",
       "\n",
       "    .dataframe thead th {\n",
       "        text-align: right;\n",
       "    }\n",
       "</style>\n",
       "<table border=\"1\" class=\"dataframe\">\n",
       "  <thead>\n",
       "    <tr style=\"text-align: right;\">\n",
       "      <th></th>\n",
       "      <th>fb_name</th>\n",
       "      <th>fb_text</th>\n",
       "      <th>fb_time</th>\n",
       "      <th>fb_polar</th>\n",
       "      <th>fb_subj</th>\n",
       "    </tr>\n",
       "  </thead>\n",
       "  <tbody>\n",
       "    <tr>\n",
       "      <th>9</th>\n",
       "      <td>Michael Morris</td>\n",
       "      <td>5 for the s1k and 1 and a half for the h2. 🤣😂</td>\n",
       "      <td>2021-03-26 22:08:28.049301</td>\n",
       "      <td>-0.166667</td>\n",
       "      <td>0.166667</td>\n",
       "    </tr>\n",
       "    <tr>\n",
       "      <th>10</th>\n",
       "      <td>Will Benefield</td>\n",
       "      <td>Sick ride! I counted 4 wheelies, Derrek’s baby...</td>\n",
       "      <td>2021-04-26 22:08:28.056283</td>\n",
       "      <td>-0.446429</td>\n",
       "      <td>0.428571</td>\n",
       "    </tr>\n",
       "    <tr>\n",
       "      <th>18</th>\n",
       "      <td>Jakob Hall</td>\n",
       "      <td>At least 2</td>\n",
       "      <td>2021-05-19 22:08:28.265811</td>\n",
       "      <td>-0.300000</td>\n",
       "      <td>0.400000</td>\n",
       "    </tr>\n",
       "    <tr>\n",
       "      <th>46</th>\n",
       "      <td>Charles Davis</td>\n",
       "      <td>Final answer 6 if you include cur scene from p...</td>\n",
       "      <td>2021-03-26 22:08:29.519458</td>\n",
       "      <td>-0.083333</td>\n",
       "      <td>0.583333</td>\n",
       "    </tr>\n",
       "    <tr>\n",
       "      <th>54</th>\n",
       "      <td>Eric Charles Curry</td>\n",
       "      <td>Right hand green side everyday</td>\n",
       "      <td>2021-05-26 15:08:54.102548</td>\n",
       "      <td>-0.038095</td>\n",
       "      <td>0.478571</td>\n",
       "    </tr>\n",
       "  </tbody>\n",
       "</table>\n",
       "</div>"
      ],
      "text/plain": [
       "               fb_name                                            fb_text  \\\n",
       "9       Michael Morris      5 for the s1k and 1 and a half for the h2. 🤣😂   \n",
       "10      Will Benefield  Sick ride! I counted 4 wheelies, Derrek’s baby...   \n",
       "18          Jakob Hall                                         At least 2   \n",
       "46       Charles Davis  Final answer 6 if you include cur scene from p...   \n",
       "54  Eric Charles Curry                     Right hand green side everyday   \n",
       "\n",
       "                       fb_time  fb_polar   fb_subj  \n",
       "9   2021-03-26 22:08:28.049301 -0.166667  0.166667  \n",
       "10  2021-04-26 22:08:28.056283 -0.446429  0.428571  \n",
       "18  2021-05-19 22:08:28.265811 -0.300000  0.400000  \n",
       "46  2021-03-26 22:08:29.519458 -0.083333  0.583333  \n",
       "54  2021-05-26 15:08:54.102548 -0.038095  0.478571  "
      ]
     },
     "execution_count": 315,
     "metadata": {},
     "output_type": "execute_result"
    }
   ],
   "source": [
    "low_p = fb_df['fb_polar'] < 0.0\n",
    "\n",
    "fb_df[low_p].head()"
   ]
  },
  {
   "cell_type": "code",
   "execution_count": 314,
   "metadata": {},
   "outputs": [
    {
     "data": {
      "text/html": [
       "<div>\n",
       "<style scoped>\n",
       "    .dataframe tbody tr th:only-of-type {\n",
       "        vertical-align: middle;\n",
       "    }\n",
       "\n",
       "    .dataframe tbody tr th {\n",
       "        vertical-align: top;\n",
       "    }\n",
       "\n",
       "    .dataframe thead th {\n",
       "        text-align: right;\n",
       "    }\n",
       "</style>\n",
       "<table border=\"1\" class=\"dataframe\">\n",
       "  <thead>\n",
       "    <tr style=\"text-align: right;\">\n",
       "      <th></th>\n",
       "      <th>fb_name</th>\n",
       "      <th>fb_text</th>\n",
       "      <th>fb_time</th>\n",
       "      <th>fb_polar</th>\n",
       "      <th>fb_subj</th>\n",
       "    </tr>\n",
       "  </thead>\n",
       "  <tbody>\n",
       "    <tr>\n",
       "      <th>0</th>\n",
       "      <td>Daniel Jozwiak</td>\n",
       "      <td>Maybe 5. Others I think ur just ducking down. ...</td>\n",
       "      <td>2021-03-26 22:08:26.970120</td>\n",
       "      <td>0.422222</td>\n",
       "      <td>0.644444</td>\n",
       "    </tr>\n",
       "    <tr>\n",
       "      <th>1</th>\n",
       "      <td>Dustin Montalvo</td>\n",
       "      <td>7. So how many miles is that bike gonna have w...</td>\n",
       "      <td>2021-03-26 22:08:26.979097</td>\n",
       "      <td>0.650000</td>\n",
       "      <td>0.600000</td>\n",
       "    </tr>\n",
       "    <tr>\n",
       "      <th>4</th>\n",
       "      <td>Mike Allen</td>\n",
       "      <td>You popped 8 maybe 9 if you count your tire co...</td>\n",
       "      <td>2021-03-26 22:08:27.608708</td>\n",
       "      <td>0.937500</td>\n",
       "      <td>1.000000</td>\n",
       "    </tr>\n",
       "    <tr>\n",
       "      <th>7</th>\n",
       "      <td>Logan Chester Tenney</td>\n",
       "      <td>My fav number 8!!!! It’s meant to be!!!! My dr...</td>\n",
       "      <td>2021-03-26 22:08:28.039327</td>\n",
       "      <td>1.000000</td>\n",
       "      <td>0.600000</td>\n",
       "    </tr>\n",
       "    <tr>\n",
       "      <th>14</th>\n",
       "      <td>Huey Uchiha</td>\n",
       "      <td>7 😅 idk but that H2! Haha looks sooo nice!</td>\n",
       "      <td>2021-03-26 22:08:28.244867</td>\n",
       "      <td>0.475000</td>\n",
       "      <td>0.650000</td>\n",
       "    </tr>\n",
       "  </tbody>\n",
       "</table>\n",
       "</div>"
      ],
      "text/plain": [
       "                 fb_name                                            fb_text  \\\n",
       "0         Daniel Jozwiak  Maybe 5. Others I think ur just ducking down. ...   \n",
       "1        Dustin Montalvo  7. So how many miles is that bike gonna have w...   \n",
       "4             Mike Allen  You popped 8 maybe 9 if you count your tire co...   \n",
       "7   Logan Chester Tenney  My fav number 8!!!! It’s meant to be!!!! My dr...   \n",
       "14           Huey Uchiha         7 😅 idk but that H2! Haha looks sooo nice!   \n",
       "\n",
       "                       fb_time  fb_polar   fb_subj  \n",
       "0   2021-03-26 22:08:26.970120  0.422222  0.644444  \n",
       "1   2021-03-26 22:08:26.979097  0.650000  0.600000  \n",
       "4   2021-03-26 22:08:27.608708  0.937500  1.000000  \n",
       "7   2021-03-26 22:08:28.039327  1.000000  0.600000  \n",
       "14  2021-03-26 22:08:28.244867  0.475000  0.650000  "
      ]
     },
     "execution_count": 314,
     "metadata": {},
     "output_type": "execute_result"
    }
   ],
   "source": [
    "high_p = fb_df['fb_polar'] > .30\n",
    "\n",
    "fb_df[high_p].head()"
   ]
  },
  {
   "cell_type": "markdown",
   "metadata": {},
   "source": [
    "_polarity needs fixing as you can see from dataframe above_"
   ]
  },
  {
   "cell_type": "markdown",
   "metadata": {},
   "source": [
    "### Insta Polarity"
   ]
  },
  {
   "cell_type": "code",
   "execution_count": 360,
   "metadata": {},
   "outputs": [
    {
     "data": {
      "image/png": "[encoded data removed]",
      "text/plain": [
       "<Figure size 432x288 with 1 Axes>"
      ]
     },
     "metadata": {
      "needs_background": "light"
     },
     "output_type": "display_data"
    }
   ],
   "source": [
    "plt.hist(x=insta_df['insta_polar'], bins=10, color='#833AB4', edgecolor='#000000')\n",
    "plt.xlabel('Polarity Score')\n",
    "plt.ylabel('Frequency')\n",
    "plt.title('Instagram Polarity')\n",
    "plt.show()"
   ]
  },
  {
   "cell_type": "code",
   "execution_count": 312,
   "metadata": {},
   "outputs": [
    {
     "data": {
      "text/html": [
       "<div>\n",
       "<style scoped>\n",
       "    .dataframe tbody tr th:only-of-type {\n",
       "        vertical-align: middle;\n",
       "    }\n",
       "\n",
       "    .dataframe tbody tr th {\n",
       "        vertical-align: top;\n",
       "    }\n",
       "\n",
       "    .dataframe thead th {\n",
       "        text-align: right;\n",
       "    }\n",
       "</style>\n",
       "<table border=\"1\" class=\"dataframe\">\n",
       "  <thead>\n",
       "    <tr style=\"text-align: right;\">\n",
       "      <th></th>\n",
       "      <th>insta_name</th>\n",
       "      <th>insta_text</th>\n",
       "      <th>insta_time</th>\n",
       "      <th>no_reply</th>\n",
       "      <th>insta_polar</th>\n",
       "      <th>insta_subj</th>\n",
       "    </tr>\n",
       "  </thead>\n",
       "  <tbody>\n",
       "    <tr>\n",
       "      <th>42</th>\n",
       "      <td>kawasuckibro</td>\n",
       "      <td>Ok that’s sick</td>\n",
       "      <td>12h1 likeReply</td>\n",
       "      <td>View replies (1)</td>\n",
       "      <td>-0.107143</td>\n",
       "      <td>0.678571</td>\n",
       "    </tr>\n",
       "    <tr>\n",
       "      <th>45</th>\n",
       "      <td>xiongy4</td>\n",
       "      <td>Restock the Men’s Bad Decisions Tshirts please!</td>\n",
       "      <td>2d1 likeReply</td>\n",
       "      <td>View replies (1)</td>\n",
       "      <td>-0.875000</td>\n",
       "      <td>0.666667</td>\n",
       "    </tr>\n",
       "    <tr>\n",
       "      <th>54</th>\n",
       "      <td>w204finney</td>\n",
       "      <td>@rideclutch do you guys carry a Black Version</td>\n",
       "      <td>2d1 likeReply</td>\n",
       "      <td>View replies (1)</td>\n",
       "      <td>-0.166667</td>\n",
       "      <td>0.433333</td>\n",
       "    </tr>\n",
       "    <tr>\n",
       "      <th>64</th>\n",
       "      <td>bigfoot_sports_marketing</td>\n",
       "      <td>That fireblade gives me a chub just looking at...</td>\n",
       "      <td>2d1 likeReply</td>\n",
       "      <td>NaN</td>\n",
       "      <td>-0.100000</td>\n",
       "      <td>0.400000</td>\n",
       "    </tr>\n",
       "    <tr>\n",
       "      <th>88</th>\n",
       "      <td>jqureshi4943</td>\n",
       "      <td>Super hard choice but I’m going with the H2!</td>\n",
       "      <td>1d1 likeReply</td>\n",
       "      <td>NaN</td>\n",
       "      <td>-0.015625</td>\n",
       "      <td>0.604167</td>\n",
       "    </tr>\n",
       "  </tbody>\n",
       "</table>\n",
       "</div>"
      ],
      "text/plain": [
       "                  insta_name  \\\n",
       "42              kawasuckibro   \n",
       "45                   xiongy4   \n",
       "54                w204finney   \n",
       "64  bigfoot_sports_marketing   \n",
       "88              jqureshi4943   \n",
       "\n",
       "                                           insta_text      insta_time  \\\n",
       "42                                     Ok that’s sick  12h1 likeReply   \n",
       "45    Restock the Men’s Bad Decisions Tshirts please!   2d1 likeReply   \n",
       "54      @rideclutch do you guys carry a Black Version   2d1 likeReply   \n",
       "64  That fireblade gives me a chub just looking at...   2d1 likeReply   \n",
       "88       Super hard choice but I’m going with the H2!   1d1 likeReply   \n",
       "\n",
       "            no_reply  insta_polar  insta_subj  \n",
       "42  View replies (1)    -0.107143    0.678571  \n",
       "45  View replies (1)    -0.875000    0.666667  \n",
       "54  View replies (1)    -0.166667    0.433333  \n",
       "64               NaN    -0.100000    0.400000  \n",
       "88               NaN    -0.015625    0.604167  "
      ]
     },
     "execution_count": 312,
     "metadata": {},
     "output_type": "execute_result"
    }
   ],
   "source": [
    "low_p = insta_df['insta_polar'] < 0.0\n",
    "\n",
    "insta_df[low_p].head()"
   ]
  },
  {
   "cell_type": "code",
   "execution_count": 320,
   "metadata": {},
   "outputs": [
    {
     "data": {
      "text/html": [
       "<div>\n",
       "<style scoped>\n",
       "    .dataframe tbody tr th:only-of-type {\n",
       "        vertical-align: middle;\n",
       "    }\n",
       "\n",
       "    .dataframe tbody tr th {\n",
       "        vertical-align: top;\n",
       "    }\n",
       "\n",
       "    .dataframe thead th {\n",
       "        text-align: right;\n",
       "    }\n",
       "</style>\n",
       "<table border=\"1\" class=\"dataframe\">\n",
       "  <thead>\n",
       "    <tr style=\"text-align: right;\">\n",
       "      <th></th>\n",
       "      <th>insta_name</th>\n",
       "      <th>insta_text</th>\n",
       "      <th>insta_time</th>\n",
       "      <th>no_reply</th>\n",
       "      <th>insta_polar</th>\n",
       "      <th>insta_subj</th>\n",
       "    </tr>\n",
       "  </thead>\n",
       "  <tbody>\n",
       "    <tr>\n",
       "      <th>30</th>\n",
       "      <td>duscof</td>\n",
       "      <td>@cristianax03 if we win we’re building the mot...</td>\n",
       "      <td>18h1 likeReply</td>\n",
       "      <td>NaN</td>\n",
       "      <td>0.800000</td>\n",
       "      <td>0.400000</td>\n",
       "    </tr>\n",
       "    <tr>\n",
       "      <th>34</th>\n",
       "      <td>duscof</td>\n",
       "      <td>@cristianax03 if we win we’re building the mot...</td>\n",
       "      <td>18h1 likeReply</td>\n",
       "      <td>NaN</td>\n",
       "      <td>0.800000</td>\n",
       "      <td>0.400000</td>\n",
       "    </tr>\n",
       "    <tr>\n",
       "      <th>44</th>\n",
       "      <td>armynut1988</td>\n",
       "      <td>I need this in my life. It would go good with ...</td>\n",
       "      <td>3h1 likeReply</td>\n",
       "      <td>View replies (1)</td>\n",
       "      <td>0.700000</td>\n",
       "      <td>0.600000</td>\n",
       "    </tr>\n",
       "    <tr>\n",
       "      <th>52</th>\n",
       "      <td>jeremywillaby</td>\n",
       "      <td>I've got 1 don't wear it feels gay lol</td>\n",
       "      <td>2dReply</td>\n",
       "      <td>NaN</td>\n",
       "      <td>0.608333</td>\n",
       "      <td>0.641667</td>\n",
       "    </tr>\n",
       "    <tr>\n",
       "      <th>57</th>\n",
       "      <td>coletonwilkinson</td>\n",
       "      <td>Can i win both bikes and no cash? 🤣💯🔥</td>\n",
       "      <td>1d1 likeReply</td>\n",
       "      <td>View replies (1)</td>\n",
       "      <td>0.800000</td>\n",
       "      <td>0.400000</td>\n",
       "    </tr>\n",
       "  </tbody>\n",
       "</table>\n",
       "</div>"
      ],
      "text/plain": [
       "          insta_name                                         insta_text  \\\n",
       "30            duscof  @cristianax03 if we win we’re building the mot...   \n",
       "34            duscof  @cristianax03 if we win we’re building the mot...   \n",
       "44       armynut1988  I need this in my life. It would go good with ...   \n",
       "52     jeremywillaby             I've got 1 don't wear it feels gay lol   \n",
       "57  coletonwilkinson              Can i win both bikes and no cash? 🤣💯🔥   \n",
       "\n",
       "        insta_time          no_reply  insta_polar  insta_subj  \n",
       "30  18h1 likeReply               NaN     0.800000    0.400000  \n",
       "34  18h1 likeReply               NaN     0.800000    0.400000  \n",
       "44   3h1 likeReply  View replies (1)     0.700000    0.600000  \n",
       "52         2dReply               NaN     0.608333    0.641667  \n",
       "57   1d1 likeReply  View replies (1)     0.800000    0.400000  "
      ]
     },
     "execution_count": 320,
     "metadata": {},
     "output_type": "execute_result"
    }
   ],
   "source": [
    "high_p = insta_df['insta_polar'] > .60\n",
    "\n",
    "insta_df[high_p].head()"
   ]
  },
  {
   "cell_type": "markdown",
   "metadata": {},
   "source": [
    "_polarity needs fixing as you can see from dataframes above_"
   ]
  },
  {
   "cell_type": "markdown",
   "metadata": {},
   "source": [
    "### Twitter Polarity"
   ]
  },
  {
   "cell_type": "code",
   "execution_count": 361,
   "metadata": {},
   "outputs": [
    {
     "data": {
      "image/png": "[encoded data removed]",
      "text/plain": [
       "<Figure size 432x288 with 1 Axes>"
      ]
     },
     "metadata": {
      "needs_background": "light"
     },
     "output_type": "display_data"
    }
   ],
   "source": [
    "plt.hist(x=tweet_df['tweet_polar'], bins=10,color='#1DA1F2', edgecolor='black')\n",
    "plt.xlabel('Polarity Score')\n",
    "plt.ylabel('Frequency')\n",
    "plt.title('Twitter Polarity')\n",
    "plt.show()"
   ]
  },
  {
   "cell_type": "code",
   "execution_count": 331,
   "metadata": {},
   "outputs": [
    {
     "data": {
      "text/html": [
       "<div>\n",
       "<style scoped>\n",
       "    .dataframe tbody tr th:only-of-type {\n",
       "        vertical-align: middle;\n",
       "    }\n",
       "\n",
       "    .dataframe tbody tr th {\n",
       "        vertical-align: top;\n",
       "    }\n",
       "\n",
       "    .dataframe thead th {\n",
       "        text-align: right;\n",
       "    }\n",
       "</style>\n",
       "<table border=\"1\" class=\"dataframe\">\n",
       "  <thead>\n",
       "    <tr style=\"text-align: right;\">\n",
       "      <th></th>\n",
       "      <th>tweet_name</th>\n",
       "      <th>tweet_text</th>\n",
       "      <th>tweet_time</th>\n",
       "      <th>tweet_polar</th>\n",
       "      <th>tweet_subj</th>\n",
       "    </tr>\n",
       "  </thead>\n",
       "  <tbody>\n",
       "    <tr>\n",
       "      <th>2</th>\n",
       "      <td>SteveYa08701736</td>\n",
       "      <td>@RonCapps28 @gearwrench @LVMotorSpeedway I nee...</td>\n",
       "      <td>2021-04-24 17:38:27+00:00</td>\n",
       "      <td>-0.500000</td>\n",
       "      <td>1.000000</td>\n",
       "    </tr>\n",
       "    <tr>\n",
       "      <th>8</th>\n",
       "      <td>emir_orbita</td>\n",
       "      <td>Thank you @rideclutch for choosing me as one o...</td>\n",
       "      <td>2021-01-22 21:06:43+00:00</td>\n",
       "      <td>-0.781250</td>\n",
       "      <td>0.500000</td>\n",
       "    </tr>\n",
       "    <tr>\n",
       "      <th>9</th>\n",
       "      <td>emir_orbita</td>\n",
       "      <td>Thank you @rideclutch for choosing me as one o...</td>\n",
       "      <td>2021-01-22 20:14:27+00:00</td>\n",
       "      <td>-0.781250</td>\n",
       "      <td>0.500000</td>\n",
       "    </tr>\n",
       "    <tr>\n",
       "      <th>13</th>\n",
       "      <td>GrabAdabAgoo</td>\n",
       "      <td>@rideclutch @ World Wide https://t.co/OVclEVnzyz</td>\n",
       "      <td>2020-11-25 18:05:54+00:00</td>\n",
       "      <td>-0.100000</td>\n",
       "      <td>0.400000</td>\n",
       "    </tr>\n",
       "    <tr>\n",
       "      <th>30</th>\n",
       "      <td>ducatistagram</td>\n",
       "      <td>We are giving away this Ducati 899 + $1,000 CA...</td>\n",
       "      <td>2019-12-01 23:00:40+00:00</td>\n",
       "      <td>-0.057143</td>\n",
       "      <td>0.303175</td>\n",
       "    </tr>\n",
       "  </tbody>\n",
       "</table>\n",
       "</div>"
      ],
      "text/plain": [
       "         tweet_name                                         tweet_text  \\\n",
       "2   SteveYa08701736  @RonCapps28 @gearwrench @LVMotorSpeedway I nee...   \n",
       "8       emir_orbita  Thank you @rideclutch for choosing me as one o...   \n",
       "9       emir_orbita  Thank you @rideclutch for choosing me as one o...   \n",
       "13     GrabAdabAgoo   @rideclutch @ World Wide https://t.co/OVclEVnzyz   \n",
       "30    ducatistagram  We are giving away this Ducati 899 + $1,000 CA...   \n",
       "\n",
       "                   tweet_time  tweet_polar  tweet_subj  \n",
       "2   2021-04-24 17:38:27+00:00    -0.500000    1.000000  \n",
       "8   2021-01-22 21:06:43+00:00    -0.781250    0.500000  \n",
       "9   2021-01-22 20:14:27+00:00    -0.781250    0.500000  \n",
       "13  2020-11-25 18:05:54+00:00    -0.100000    0.400000  \n",
       "30  2019-12-01 23:00:40+00:00    -0.057143    0.303175  "
      ]
     },
     "execution_count": 331,
     "metadata": {},
     "output_type": "execute_result"
    }
   ],
   "source": [
    "low_p = tweet_df['tweet_polar'] < 0.0\n",
    "\n",
    "tweet_df[low_p].head()"
   ]
  },
  {
   "cell_type": "code",
   "execution_count": 332,
   "metadata": {},
   "outputs": [
    {
     "data": {
      "text/html": [
       "<div>\n",
       "<style scoped>\n",
       "    .dataframe tbody tr th:only-of-type {\n",
       "        vertical-align: middle;\n",
       "    }\n",
       "\n",
       "    .dataframe tbody tr th {\n",
       "        vertical-align: top;\n",
       "    }\n",
       "\n",
       "    .dataframe thead th {\n",
       "        text-align: right;\n",
       "    }\n",
       "</style>\n",
       "<table border=\"1\" class=\"dataframe\">\n",
       "  <thead>\n",
       "    <tr style=\"text-align: right;\">\n",
       "      <th></th>\n",
       "      <th>tweet_name</th>\n",
       "      <th>tweet_text</th>\n",
       "      <th>tweet_time</th>\n",
       "      <th>tweet_polar</th>\n",
       "      <th>tweet_subj</th>\n",
       "    </tr>\n",
       "  </thead>\n",
       "  <tbody>\n",
       "    <tr>\n",
       "      <th>4</th>\n",
       "      <td>Luimoto</td>\n",
       "      <td>Keep an eye out for more Luimoto Seat Covers o...</td>\n",
       "      <td>2021-04-13 16:37:54+00:00</td>\n",
       "      <td>0.625000</td>\n",
       "      <td>0.500000</td>\n",
       "    </tr>\n",
       "    <tr>\n",
       "      <th>5</th>\n",
       "      <td>WraithPhotos</td>\n",
       "      <td>Lol thanks @rideclutch, it's perfect. @ Saint ...</td>\n",
       "      <td>2021-04-10 22:20:06+00:00</td>\n",
       "      <td>0.666667</td>\n",
       "      <td>0.633333</td>\n",
       "    </tr>\n",
       "    <tr>\n",
       "      <th>10</th>\n",
       "      <td>OliverHansHerre</td>\n",
       "      <td>Praying to the Gods to win the Lotto, Pappy Va...</td>\n",
       "      <td>2021-01-19 22:26:41+00:00</td>\n",
       "      <td>0.800000</td>\n",
       "      <td>0.400000</td>\n",
       "    </tr>\n",
       "    <tr>\n",
       "      <th>24</th>\n",
       "      <td>Jesse96Ward</td>\n",
       "      <td>Couldn't have asked for a better day to be out...</td>\n",
       "      <td>2020-05-17 00:43:54+00:00</td>\n",
       "      <td>0.587500</td>\n",
       "      <td>0.625000</td>\n",
       "    </tr>\n",
       "    <tr>\n",
       "      <th>28</th>\n",
       "      <td>pazzo_racing</td>\n",
       "      <td>Posted withregram • rideclutch We could all us...</td>\n",
       "      <td>2020-01-29 19:30:51+00:00</td>\n",
       "      <td>0.800000</td>\n",
       "      <td>0.400000</td>\n",
       "    </tr>\n",
       "  </tbody>\n",
       "</table>\n",
       "</div>"
      ],
      "text/plain": [
       "         tweet_name                                         tweet_text  \\\n",
       "4           Luimoto  Keep an eye out for more Luimoto Seat Covers o...   \n",
       "5      WraithPhotos  Lol thanks @rideclutch, it's perfect. @ Saint ...   \n",
       "10  OliverHansHerre  Praying to the Gods to win the Lotto, Pappy Va...   \n",
       "24      Jesse96Ward  Couldn't have asked for a better day to be out...   \n",
       "28     pazzo_racing  Posted withregram • rideclutch We could all us...   \n",
       "\n",
       "                   tweet_time  tweet_polar  tweet_subj  \n",
       "4   2021-04-13 16:37:54+00:00     0.625000    0.500000  \n",
       "5   2021-04-10 22:20:06+00:00     0.666667    0.633333  \n",
       "10  2021-01-19 22:26:41+00:00     0.800000    0.400000  \n",
       "24  2020-05-17 00:43:54+00:00     0.587500    0.625000  \n",
       "28  2020-01-29 19:30:51+00:00     0.800000    0.400000  "
      ]
     },
     "execution_count": 332,
     "metadata": {},
     "output_type": "execute_result"
    }
   ],
   "source": [
    "high_p = tweet_df['tweet_polar'] > 0.5\n",
    "\n",
    "tweet_df[high_p].head()"
   ]
  },
  {
   "cell_type": "markdown",
   "metadata": {},
   "source": [
    "_polarity needs fixing as you can see from dataframe above_"
   ]
  },
  {
   "cell_type": "code",
   "execution_count": null,
   "metadata": {},
   "outputs": [],
   "source": []
  },
  {
   "cell_type": "markdown",
   "metadata": {},
   "source": [
    "## Visualizing Word Freqency\n",
    "\n",
    "Using the words.count, counting comments for frequency of words"
   ]
  },
  {
   "cell_type": "markdown",
   "metadata": {},
   "source": [
    "### H2 or CBR"
   ]
  },
  {
   "cell_type": "code",
   "execution_count": 485,
   "metadata": {},
   "outputs": [],
   "source": [
    "cbr = 0\n",
    "h2 = 0"
   ]
  },
  {
   "cell_type": "code",
   "execution_count": 486,
   "metadata": {},
   "outputs": [
    {
     "name": "stdout",
     "output_type": "stream",
     "text": [
      "Facebook:\n",
      "CBR: 1\n",
      "H2: 3\n",
      "Instagram:\n",
      "CBR: 20\n",
      "H2: 101\n",
      "Twitter:\n",
      "CBR: 23\n",
      "H2: 103\n"
     ]
    }
   ],
   "source": [
    "for line in fb_blob:\n",
    "    if 'cbr' in line.lower():\n",
    "        cbr = cbr + 1\n",
    "    elif 'h2' in line.lower():\n",
    "        h2 = h2 + 1\n",
    "        \n",
    "print(f\"Facebook:\\nCBR: {cbr}\\nH2: {h2}\\n\")\n",
    "\n",
    "for line in insta_blob:\n",
    "    if 'cbr' in line.lower():\n",
    "        cbr = cbr + 1\n",
    "    elif 'h2' in line.lower():\n",
    "        h2 = h2 + 1\n",
    "\n",
    "print(f\"Instagram:\\nCBR: {cbr}\\nH2: {h2}\\n\")\n",
    "\n",
    "for line in twitter_blob:\n",
    "    if 'cbr' in line.lower():\n",
    "        cbr = cbr + 1\n",
    "    elif 'h2' in line.lower():\n",
    "        h2 = h2 + 1\n",
    "\n",
    "print(f\"Twitter:\\nCBR: {cbr}\\nH2: {h2}\\n\")"
   ]
  },
  {
   "cell_type": "code",
   "execution_count": 481,
   "metadata": {},
   "outputs": [
    {
     "data": {
      "image/png": "[encoded data removed]",
      "text/plain": [
       "<Figure size 432x288 with 1 Axes>"
      ]
     },
     "metadata": {},
     "output_type": "display_data"
    }
   ],
   "source": [
    "slices = [cbr, h2]\n",
    "labels = ['CBR','H2']\n",
    "\n",
    "plt.pie(slices, labels=labels, autopct='%1.3f%%')\n",
    "plt.title(\"CBR vs H2\")\n",
    "plt.show()"
   ]
  },
  {
   "cell_type": "code",
   "execution_count": null,
   "metadata": {},
   "outputs": [],
   "source": []
  }
 ],
 "metadata": {
  "kernelspec": {
   "display_name": "Python 3",
   "language": "python",
   "name": "python3"
  },
  "language_info": {
   "codemirror_mode": {
    "name": "ipython",
    "version": 3
   },
   "file_extension": ".py",
   "mimetype": "text/x-python",
   "name": "python",
   "nbconvert_exporter": "python",
   "pygments_lexer": "ipython3",
   "version": "3.8.5"
  }
 },
 "nbformat": 4,
 "nbformat_minor": 4
}
